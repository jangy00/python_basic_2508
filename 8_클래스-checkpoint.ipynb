{
 "cells": [
  {
   "cell_type": "markdown",
   "id": "fd2fe8dd-215d-4532-b42e-ecfdeae6ae9c",
   "metadata": {},
   "source": [
    "## 1. 클래스는 왜 필요한가??"
   ]
  },
  {
   "cell_type": "code",
   "execution_count": 1,
   "id": "67f383d7-cad8-4217-a1fd-3029207cce50",
   "metadata": {},
   "outputs": [
    {
     "name": "stdout",
     "output_type": "stream",
     "text": [
      "3\n",
      "7\n"
     ]
    }
   ],
   "source": [
    "# 함수로 계산기 만들기\n",
    "result = 0\n",
    "\n",
    "def add(num):\n",
    "    global result\n",
    "    result += num\n",
    "    return result\n",
    "\n",
    "print(add(3))  # 0+3=3\n",
    "print(add(4))  # 3+4=7"
   ]
  },
  {
   "cell_type": "code",
   "execution_count": 4,
   "id": "3270e164-8307-493e-87e4-247f0e17d9b8",
   "metadata": {},
   "outputs": [
    {
     "name": "stdout",
     "output_type": "stream",
     "text": [
      "3\n",
      "7\n",
      "3\n",
      "10\n"
     ]
    }
   ],
   "source": [
    "result1 = 0   #계산기 2대\n",
    "result2 = 0\n",
    "\n",
    "def add1(num):\n",
    "    global result1\n",
    "    result1 += num\n",
    "    return result1\n",
    "\n",
    "def add2(num):\n",
    "    global result2\n",
    "    result2 += num\n",
    "    return result2\n",
    "\n",
    "print(add1(3))\n",
    "print(add1(4))\n",
    "\n",
    "print(add2(3))\n",
    "print(add2(7))"
   ]
  },
  {
   "cell_type": "code",
   "execution_count": 7,
   "id": "38f9bd8a-14de-41b9-9a50-b54351b1c77e",
   "metadata": {},
   "outputs": [
    {
     "name": "stdout",
     "output_type": "stream",
     "text": [
      "3\n",
      "7\n",
      "3\n",
      "10\n"
     ]
    }
   ],
   "source": [
    "# 클래스로 여러개 계산기 만들기\n",
    "class Calculator:\n",
    "    def __init__(self):   #__anything__ 매직메서드\n",
    "        self.result=0\n",
    "    def add(self,num):\n",
    "        self.result += num\n",
    "        return self.result\n",
    "\n",
    "cal1=Calculator()  #인스턴스 -계산기1\n",
    "cal2=Calculator()  #인스턴스 -계산기2\n",
    "\n",
    "print(cal1.add(3))\n",
    "print(cal1.add(4))\n",
    "print(cal2.add(3))\n",
    "print(cal2.add(7))\n"
   ]
  },
  {
   "cell_type": "code",
   "execution_count": 11,
   "id": "23004e9c-b9bf-4833-a9ba-e3dce146f1fc",
   "metadata": {},
   "outputs": [
    {
     "name": "stdout",
     "output_type": "stream",
     "text": [
      "10\n",
      "13\n",
      "8\n",
      "--------------------\n",
      "-5\n",
      "15\n"
     ]
    }
   ],
   "source": [
    "#더하기 / 빼기 기능이 있는 계산기의 설계도(class)\n",
    "class Calculator:\n",
    "    def __init__(self):   #__anything__ 매직메서드\n",
    "        self.result=0\n",
    "    def add(self,num):\n",
    "        self.result += num\n",
    "        return self.result\n",
    "\n",
    "    def minus(self,num):\n",
    "        self.result -= num\n",
    "        return self.result\n",
    "cal1=Calculator()\n",
    "print(cal1.add(10))\n",
    "print(cal1.add(3))\n",
    "print(cal1.minus(5))\n",
    "\n",
    "print(\"-\"*20)\n",
    "cal2=Calculator()\n",
    "print(cal2.minus(5))\n",
    "print(cal2.add(20))"
   ]
  },
  {
   "cell_type": "code",
   "execution_count": 12,
   "id": "28a11dc3-eecf-4505-836b-cf438b91f1b6",
   "metadata": {},
   "outputs": [],
   "source": [
    "# a=cookie()  에서 a 자체는 객체라고 할수있고 a=cookie()의 관계에서의 상대관계는 a는 cookie()의 인스턴스라고 할수있다."
   ]
  },
  {
   "cell_type": "markdown",
   "id": "2a3fe14c-1de6-4069-9cad-5f19fd4177bc",
   "metadata": {},
   "source": [
    "### 3.사칙연산 클래스 만들기"
   ]
  },
  {
   "cell_type": "code",
   "execution_count": 13,
   "id": "058c8d9e-4868-4fbb-b35b-1731848c43bd",
   "metadata": {},
   "outputs": [],
   "source": [
    "class FourCal:\n",
    "    pass"
   ]
  },
  {
   "cell_type": "code",
   "execution_count": 15,
   "id": "d5caf70a-594c-4902-b7e0-6a8ceb7dee6c",
   "metadata": {},
   "outputs": [
    {
     "data": {
      "text/plain": [
       "__main__.FourCal"
      ]
     },
     "execution_count": 15,
     "metadata": {},
     "output_type": "execute_result"
    }
   ],
   "source": [
    "a = FourCal()\n",
    "type(a)  #명명한 이름으로 타입이 지정됨"
   ]
  },
  {
   "cell_type": "code",
   "execution_count": 25,
   "id": "0d1a5db0-9854-42c4-b3ea-82109ca559e3",
   "metadata": {},
   "outputs": [
    {
     "name": "stdout",
     "output_type": "stream",
     "text": [
      "6\n",
      "2\n",
      "8\n",
      "2.0\n",
      "********************\n",
      "11\n",
      "-5\n",
      "24\n",
      "0.375\n"
     ]
    }
   ],
   "source": [
    "class FourCal:\n",
    "    def setdata(self, first, second):\n",
    "        self.first = first\n",
    "        self.second = second\n",
    "\n",
    "    def add(self):\n",
    "        result = self.first + self.second\n",
    "        return result\n",
    "\n",
    "    def sub(self):\n",
    "        result = self.first - self.second\n",
    "        return result\n",
    "        \n",
    "    def mul(self):\n",
    "        result = self.first * self.second\n",
    "        return result\n",
    "        \n",
    "    def div(self):\n",
    "        result = self.first / self.second\n",
    "        return result\n",
    "\n",
    "cal1 =FourCal()    #계산기1\n",
    "cal2 =FourCal()    #계산기2\n",
    "\n",
    "# 계산기에 2개의 숫자 입력\n",
    "\n",
    "cal1.setdata(4,2)\n",
    "cal2.setdata(3,8)\n",
    "\n",
    "print(cal1.add())\n",
    "print(cal1.sub())\n",
    "print(cal1.mul())\n",
    "print(cal1.div())\n",
    "print('*'*20)\n",
    "print(cal2.add())\n",
    "print(cal2.sub())\n",
    "print(cal2.mul())\n",
    "print(cal2.div())\n",
    "\n"
   ]
  },
  {
   "cell_type": "code",
   "execution_count": 19,
   "id": "0637ec25-0c16-49a0-82b6-170a8e545461",
   "metadata": {},
   "outputs": [],
   "source": [
    "a = FourCal() #인스턴스 생성"
   ]
  },
  {
   "cell_type": "code",
   "execution_count": 22,
   "id": "5655144e-1763-413b-ac4c-fdf67f7a47e0",
   "metadata": {},
   "outputs": [
    {
     "name": "stdout",
     "output_type": "stream",
     "text": [
      "3 4\n"
     ]
    }
   ],
   "source": [
    "a.setdata(3,4)\n",
    "print(a.first,a.second)"
   ]
  },
  {
   "cell_type": "markdown",
   "id": "7d7fb32f-8daa-4aa4-b23d-4f1962aa039d",
   "metadata": {},
   "source": [
    "### 4.생성자"
   ]
  },
  {
   "cell_type": "code",
   "execution_count": 26,
   "id": "b922d354-3e93-452d-8e52-83fff8df0d64",
   "metadata": {},
   "outputs": [],
   "source": [
    "class FourCal:\n",
    "\n",
    "    def __init__(self, first, second):     #생성자 __init__\n",
    "        self.first = first\n",
    "        self.second = second\n",
    "\n",
    "    def add(self):\n",
    "        result = self.first + self.second\n",
    "        return result\n",
    "\n",
    "    def sub(self):\n",
    "        result = self.first - self.second\n",
    "        return result\n",
    "        \n",
    "    def mul(self):\n",
    "        result = self.first * self.second\n",
    "        return result\n",
    "        \n",
    "    def div(self):\n",
    "        result = self.first / self.second\n",
    "        return result\n"
   ]
  },
  {
   "cell_type": "code",
   "execution_count": 27,
   "id": "03404470-30dc-47de-8645-9877102289f0",
   "metadata": {},
   "outputs": [
    {
     "data": {
      "text/plain": [
       "(15, 3)"
      ]
     },
     "execution_count": 27,
     "metadata": {},
     "output_type": "execute_result"
    }
   ],
   "source": [
    "calcl = FourCal(15,3)\n",
    "calcl.first,calcl.second"
   ]
  },
  {
   "cell_type": "code",
   "execution_count": 28,
   "id": "b9ee97ff-dcde-406c-964e-8a7801c89e1c",
   "metadata": {},
   "outputs": [
    {
     "name": "stdout",
     "output_type": "stream",
     "text": [
      "18\n",
      "12\n",
      "45\n",
      "5.0\n"
     ]
    }
   ],
   "source": [
    "print(calcl.add())\n",
    "print(calcl.sub())\n",
    "print(calcl.mul())\n",
    "print(calcl.div())"
   ]
  },
  {
   "cell_type": "markdown",
   "id": "e5842093-02e0-4e0f-8c9c-10e9c98cc4e3",
   "metadata": {},
   "source": [
    "##  5.클래스 상속"
   ]
  },
  {
   "cell_type": "code",
   "execution_count": 29,
   "id": "6e3f2e28-fa9a-47e7-b77f-d1d8a29c93ea",
   "metadata": {},
   "outputs": [],
   "source": [
    "class MoreFourCal(FourCal):\n",
    "    pass"
   ]
  },
  {
   "cell_type": "code",
   "execution_count": 30,
   "id": "f6664742-3d2d-4b72-835f-4742edeb20ce",
   "metadata": {},
   "outputs": [],
   "source": [
    "cal1 = MoreFourCal(4,2)"
   ]
  },
  {
   "cell_type": "code",
   "execution_count": 31,
   "id": "f262b294-4ae3-4b1e-80e1-79c3b667984e",
   "metadata": {},
   "outputs": [
    {
     "name": "stdout",
     "output_type": "stream",
     "text": [
      "6\n",
      "2\n",
      "8\n",
      "2.0\n"
     ]
    }
   ],
   "source": [
    "print(cal1.add())\n",
    "print(cal1.sub())\n",
    "print(cal1.mul())\n",
    "print(cal1.div())"
   ]
  },
  {
   "cell_type": "code",
   "execution_count": 33,
   "id": "ad419ba2-7f63-439a-b592-df287bfcef50",
   "metadata": {},
   "outputs": [
    {
     "name": "stdout",
     "output_type": "stream",
     "text": [
      "6\n",
      "2\n",
      "8\n",
      "2.0\n",
      "16\n"
     ]
    }
   ],
   "source": [
    " # 기본기능은 상속받았고, MoreFourCal 만의 기능을 추가\n",
    "class MoreFourCal(FourCal):\n",
    "    def pow(self):\n",
    "        result= self.first ** self.second\n",
    "        return result\n",
    "\n",
    "cal2 = MoreFourCal(4,2)\n",
    "\n",
    "print(cal2.add())\n",
    "print(cal2.sub())\n",
    "print(cal2.mul())\n",
    "print(cal2.div())  #기존의 Cal 함수의 계산식\n",
    "print(cal2.pow())  #추가된 MoreCal의 계산식"
   ]
  },
  {
   "cell_type": "code",
   "execution_count": 35,
   "id": "edfcb6f2-6166-43c7-92a8-0e1560487fa5",
   "metadata": {},
   "outputs": [
    {
     "name": "stdout",
     "output_type": "stream",
     "text": [
      "4\n",
      "4\n",
      "0\n"
     ]
    }
   ],
   "source": [
    "cal3 = MoreFourCal(4,0)\n",
    "print(cal3.add())\n",
    "print(cal3.sub())\n",
    "print(cal3.mul())"
   ]
  },
  {
   "cell_type": "markdown",
   "id": "c11e6f5e-659a-417c-a4b2-bea22b81e630",
   "metadata": {},
   "source": [
    "## 6. 메서드 오버라이딩"
   ]
  },
  {
   "cell_type": "code",
   "execution_count": 47,
   "id": "541d015f-ae48-41e0-adfa-e8535d2b2cc9",
   "metadata": {},
   "outputs": [],
   "source": [
    "class SafeFourCal(FourCal):\n",
    "    #상속받은 메서드 재정의(overriding)\n",
    "    def div(self):\n",
    "        if self.second == 0:               #예외처리\n",
    "            return \"카드결제일 후의 나의잔고\"\n",
    "        else:\n",
    "            result = self.first / self.second\n",
    "            return result"
   ]
  },
  {
   "cell_type": "code",
   "execution_count": 37,
   "id": "4997d146-6990-419d-83e7-af97309ec813",
   "metadata": {},
   "outputs": [],
   "source": [
    "calc = SafeFourCal(4,0)"
   ]
  },
  {
   "cell_type": "code",
   "execution_count": 38,
   "id": "3b9635ff-cf75-41c6-8fc8-2a94882d12c4",
   "metadata": {},
   "outputs": [
    {
     "name": "stdout",
     "output_type": "stream",
     "text": [
      "4\n",
      "4\n",
      "0\n",
      "카드결제일 후의 나의잔고\n"
     ]
    }
   ],
   "source": [
    "print(calc.add())\n",
    "print(calc.sub())\n",
    "print(calc.mul())\n",
    "print(calc.div())"
   ]
  },
  {
   "cell_type": "markdown",
   "id": "da07b45f-ee50-46ce-8fa6-e218ad7a09b2",
   "metadata": {},
   "source": [
    "## 7.클래스 변수"
   ]
  },
  {
   "cell_type": "code",
   "execution_count": 40,
   "id": "ee7bef06-4e87-455a-86cb-c4fbb33d1b1f",
   "metadata": {},
   "outputs": [],
   "source": [
    "class Family:\n",
    "    lastname = \"김\""
   ]
  },
  {
   "cell_type": "code",
   "execution_count": 41,
   "id": "ce7a4d8d-1e2d-4f54-a82e-4d31ce26170b",
   "metadata": {},
   "outputs": [
    {
     "data": {
      "text/plain": [
       "'김'"
      ]
     },
     "execution_count": 41,
     "metadata": {},
     "output_type": "execute_result"
    }
   ],
   "source": [
    "Family.lastname"
   ]
  },
  {
   "cell_type": "code",
   "execution_count": 42,
   "id": "3c25c83f-c59d-4dd9-83bf-ad8ae9d801fd",
   "metadata": {},
   "outputs": [
    {
     "name": "stdout",
     "output_type": "stream",
     "text": [
      "김\n",
      "김\n"
     ]
    }
   ],
   "source": [
    "a = Family()\n",
    "b = Family()\n",
    "print(a.lastname)\n",
    "print(b.lastname)"
   ]
  },
  {
   "cell_type": "code",
   "execution_count": 45,
   "id": "dbcebe25-53ff-4a25-a3af-f42c24559aa3",
   "metadata": {},
   "outputs": [
    {
     "name": "stdout",
     "output_type": "stream",
     "text": [
      "최\n",
      "박\n"
     ]
    }
   ],
   "source": [
    "Family.lastname = \"박\"\n",
    "#  Family.lastname => 클래스 변수, 클래스 변수를 변경하면 인스턴스 변수도 변경\n",
    "print(a.lastname)\n",
    "print(b.lastname)"
   ]
  },
  {
   "cell_type": "code",
   "execution_count": 46,
   "id": "f1aa5d7c-b669-4139-8fbe-9960d4e59810",
   "metadata": {},
   "outputs": [
    {
     "name": "stdout",
     "output_type": "stream",
     "text": [
      "최\n",
      "박\n"
     ]
    }
   ],
   "source": [
    "# 인스턴스 변수만 변경\n",
    "a.lastname =\"최\"\n",
    "print(a.lastname)  # 인스턴스변수를 변경하면 해당 인스턴스 변수만 변경됨\n",
    "print(b.lastname)"
   ]
  },
  {
   "cell_type": "code",
   "execution_count": null,
   "id": "0a339d00-77dd-4800-a7a3-9963eae511ec",
   "metadata": {},
   "outputs": [],
   "source": []
  }
 ],
 "metadata": {
  "kernelspec": {
   "display_name": "Python [conda env:base] *",
   "language": "python",
   "name": "conda-base-py"
  },
  "language_info": {
   "codemirror_mode": {
    "name": "ipython",
    "version": 3
   },
   "file_extension": ".py",
   "mimetype": "text/x-python",
   "name": "python",
   "nbconvert_exporter": "python",
   "pygments_lexer": "ipython3",
   "version": "3.13.5"
  }
 },
 "nbformat": 4,
 "nbformat_minor": 5
}
