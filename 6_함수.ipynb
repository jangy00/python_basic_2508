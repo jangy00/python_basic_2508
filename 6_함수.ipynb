{
 "cells": [
  {
   "cell_type": "markdown",
   "id": "72942a00-2c7b-40d0-a2f5-5a94bd32d572",
   "metadata": {},
   "source": [
    "## 1. 파이썬 함수"
   ]
  },
  {
   "cell_type": "code",
   "execution_count": 2,
   "id": "9ed34f66-e4e8-47d2-84a2-2593d73973a9",
   "metadata": {},
   "outputs": [
    {
     "name": "stdout",
     "output_type": "stream",
     "text": [
      "7\n",
      "333\n"
     ]
    }
   ],
   "source": [
    "def add(a,b):\n",
    "    return a+b\n",
    "\n",
    "a,b = 3,4\n",
    "c = add(a,b)\n",
    "print(c)\n",
    "\n",
    "d = add(111, 222)\n",
    "print (d)"
   ]
  },
  {
   "cell_type": "code",
   "execution_count": 3,
   "id": "6cb8146e-3dd3-4e6f-b957-53069b0ff686",
   "metadata": {},
   "outputs": [
    {
     "name": "stdout",
     "output_type": "stream",
     "text": [
      "6\n"
     ]
    }
   ],
   "source": [
    "# 1. 매개변수 0, return 값 0 \n",
    "def minus(a,b):\n",
    "    result = a -b\n",
    "    return result\n",
    "\n",
    "a = minus (10,4)\n",
    "print (a)"
   ]
  },
  {
   "cell_type": "code",
   "execution_count": 4,
   "id": "fc96acef-4f7d-4d87-a410-4be61630cc64",
   "metadata": {},
   "outputs": [
    {
     "name": "stdout",
     "output_type": "stream",
     "text": [
      "HI!\n"
     ]
    }
   ],
   "source": [
    "# 2. 매개변수 X, return값 0\n",
    "def say():\n",
    "    return 'HI!'\n",
    "\n",
    "print(say())"
   ]
  },
  {
   "cell_type": "code",
   "execution_count": 6,
   "id": "aa1b90bc-b623-445f-be7f-cb153d922506",
   "metadata": {},
   "outputs": [
    {
     "name": "stdout",
     "output_type": "stream",
     "text": [
      "12, 24의 합은 288입니다.\n",
      "3, 4의 합은 12입니다.\n",
      "None\n"
     ]
    }
   ],
   "source": [
    "# 매개변수 0, return값 x\n",
    "\n",
    "def add (x, y):\n",
    "    print (\"%d, %d의 합은 %d입니다.\"%(x,y, x*y))\n",
    "\n",
    "add (12, 24)\n",
    "\n",
    "a = add (3,4)\n",
    "print(a)"
   ]
  },
  {
   "cell_type": "code",
   "execution_count": 7,
   "id": "0734c914-f8f7-4595-a5a2-5d4edec2359d",
   "metadata": {},
   "outputs": [
    {
     "name": "stdout",
     "output_type": "stream",
     "text": [
      "HI !\n"
     ]
    }
   ],
   "source": [
    "# 4. 매개변수 x, return값 x\n",
    "def say():\n",
    "    print(\"HI !\")\n",
    "\n",
    "say()"
   ]
  },
  {
   "cell_type": "code",
   "execution_count": 9,
   "id": "a09b1eec-1dad-425e-ae1e-da64cd5b26f4",
   "metadata": {},
   "outputs": [
    {
     "name": "stdout",
     "output_type": "stream",
     "text": [
      "4\n",
      "4\n"
     ]
    }
   ],
   "source": [
    "# 키워드 매개변수 \n",
    "def sub(a, b):\n",
    "    return a-b\n",
    "\n",
    "result = sub(7,3)\n",
    "print(result)\n",
    "\n",
    "result2 = sub(b=3, a=7)\n",
    "print(result2)"
   ]
  },
  {
   "cell_type": "code",
   "execution_count": 12,
   "id": "cd736502-669e-4059-bdfd-3790fceaa05b",
   "metadata": {},
   "outputs": [
    {
     "name": "stdout",
     "output_type": "stream",
     "text": [
      "15\n",
      "55\n"
     ]
    }
   ],
   "source": [
    "# 가변 매개변수(*매개변수)\n",
    "def add_many(*args):\n",
    "    result = 0\n",
    "    for i in args:\n",
    "        result += i\n",
    "    return result\n",
    "\n",
    "res1 = add_many(1,2,3,4,5)\n",
    "print(res1)\n",
    "\n",
    "res2 = add_many(1,2,3,4,5,6,7,8,9,10)\n",
    "print(res2)"
   ]
  },
  {
   "cell_type": "code",
   "execution_count": 20,
   "id": "3f9c0d1f-7bf3-4863-927d-310eef2ee873",
   "metadata": {},
   "outputs": [
    {
     "name": "stdout",
     "output_type": "stream",
     "text": [
      "6\n",
      "4\n"
     ]
    }
   ],
   "source": [
    "# 덧셈, 곱셈 둘다 연산 가능한 함수\n",
    "def add_mul(choice, *args):\n",
    "    if choice == 'add' :\n",
    "        result = 0\n",
    "        for i in args:\n",
    "            result += i\n",
    "    elif choice == \"mul\":\n",
    "        result = 0\n",
    "        for i in args:\n",
    "            result *= i\n",
    "    return result\n",
    "\n",
    "res1 = add_mul('add',1,2,3)\n",
    "print(res1)\n",
    "\n",
    "res2 = add_mul('mul', 1,2,3)\n",
    "print(result)"
   ]
  },
  {
   "cell_type": "code",
   "execution_count": 23,
   "id": "d2734a4c-16b1-4ad4-b7eb-b10ae87ae834",
   "metadata": {},
   "outputs": [
    {
     "name": "stdout",
     "output_type": "stream",
     "text": [
      "{'a': 1}\n",
      "{'name': 'foo', 'age': 3}\n"
     ]
    }
   ],
   "source": [
    "# 키워드 기반 매개변수(**매개변수)\n",
    "def print_kwargs(**kwargs):\n",
    "    print(kwargs)\n",
    "\n",
    "print_kwargs(a=1)\n",
    "\n",
    "print_kwargs(name='foo', age=3)"
   ]
  },
  {
   "cell_type": "code",
   "execution_count": 27,
   "id": "a723b118-112c-487a-b954-93ebe2af97ef",
   "metadata": {},
   "outputs": [
    {
     "name": "stdout",
     "output_type": "stream",
     "text": [
      "(7, 12)\n",
      "a+b = 7\n",
      "a*b = 12\n"
     ]
    }
   ],
   "source": [
    "# 함수의 리턴값은 하나\n",
    "def add_and_mul(a,b):\n",
    "    return a+b, a*b\n",
    "\n",
    "res = add_and_mul(3,4)\n",
    "print(res)\n",
    "\n",
    "res1, res2 = add_and_mul(3,4)\n",
    "print(\"a+b =\" ,res1)\n",
    "print(\"a*b =\" ,res2)"
   ]
  },
  {
   "cell_type": "code",
   "execution_count": 28,
   "id": "3e5b7376-5f9f-4b36-8288-c5415aeeec4c",
   "metadata": {},
   "outputs": [
    {
     "name": "stdout",
     "output_type": "stream",
     "text": [
      "5\n"
     ]
    }
   ],
   "source": [
    "def add_and_mul(a,b):\n",
    "    return a+b \n",
    "    return a*b\n",
    "\n",
    "res = add_and_mul(2,3)\n",
    "print(res)"
   ]
  },
  {
   "cell_type": "code",
   "execution_count": 29,
   "id": "30ff387e-4dbc-4b85-9bca-16e41bdadd97",
   "metadata": {},
   "outputs": [
    {
     "name": "stdout",
     "output_type": "stream",
     "text": [
      "나의 별명은 야호 입니다.\n"
     ]
    }
   ],
   "source": [
    "# return의 또 다른 쓰임새\n",
    "def say_nick(nick):\n",
    "    if nick == \"바보\":\n",
    "        return\n",
    "    print(\"나의 별명은 %s 입니다.\" %nick)\n",
    "\n",
    "say_nick('야호')"
   ]
  },
  {
   "cell_type": "code",
   "execution_count": 36,
   "id": "55b8b2c1-2600-46fc-aad3-3ba6362d699b",
   "metadata": {},
   "outputs": [
    {
     "name": "stdout",
     "output_type": "stream",
     "text": [
      "나의 이름은 홍길동입니다.\n",
      "나이는 28살 입니다.\n",
      "남자입니다.\n"
     ]
    }
   ],
   "source": [
    "# 매개변수의 초기값 설정\n",
    "\n",
    "def say_myself(name, age, man=True):\n",
    "    print(f\"나의 이름은 {name}입니다.\")\n",
    "    print(f\"나이는 {age}살 입니다.\")\n",
    "    if man:\n",
    "        print(\"남자입니다.\")\n",
    "    else:\n",
    "        print(\"여자입니다.\")\n",
    "\n",
    "# 함수 호출\n",
    "\n",
    "say_myself('홍길동', 28, True)"
   ]
  },
  {
   "cell_type": "code",
   "execution_count": 39,
   "id": "33770fb7-326e-40ef-b7bc-16e41aba43a6",
   "metadata": {},
   "outputs": [
    {
     "name": "stdout",
     "output_type": "stream",
     "text": [
      "1\n"
     ]
    }
   ],
   "source": [
    "# 함수의 유효범위\n",
    "a = 1\n",
    "def vartest(a):\n",
    "    a = a+1\n",
    "\n",
    "vartest(a) # 아무것도 실행 안됌\n",
    "print(a) # 함수 밖에있는 a 출력"
   ]
  },
  {
   "cell_type": "code",
   "execution_count": 41,
   "id": "78bd7964-7545-49d9-9e12-03d9ccfad146",
   "metadata": {},
   "outputs": [
    {
     "name": "stdout",
     "output_type": "stream",
     "text": [
      "2\n"
     ]
    }
   ],
   "source": [
    "a = 1\n",
    "def vartest(a):\n",
    "    a = a+1\n",
    "    return a\n",
    "\n",
    "a = vartest(a) # 함수 실행하면 a 값 반환되고 a변수에 다시 덮어씀\n",
    "print(a)"
   ]
  },
  {
   "cell_type": "code",
   "execution_count": 47,
   "id": "ebd6b01d-8ff7-4cef-83df-399bf8da1c9b",
   "metadata": {},
   "outputs": [
    {
     "name": "stdout",
     "output_type": "stream",
     "text": [
      "2\n"
     ]
    }
   ],
   "source": [
    "# 함수의 유효범위 => 2, global 명령어 사용하기\n",
    "a = 1\n",
    "def vartest():\n",
    "    global a # 함수 안에서 a는 전역변수로 변경한\n",
    "    a += 1\n",
    "\n",
    "\n",
    "vartest()\n",
    "print(a)"
   ]
  },
  {
   "cell_type": "code",
   "execution_count": 48,
   "id": "b31cdb39-e28e-4954-a490-f5864d379f72",
   "metadata": {},
   "outputs": [
    {
     "name": "stdout",
     "output_type": "stream",
     "text": [
      "7\n"
     ]
    }
   ],
   "source": [
    "# lambda 표현식 (예약어) 사용 안하고 함수 선언\n",
    "def add(a,b):\n",
    "    return a+b\n",
    "\n",
    "print(add(3,4))"
   ]
  },
  {
   "cell_type": "code",
   "execution_count": 49,
   "id": "191ab982-9542-4004-a55c-4c1ff91af29a",
   "metadata": {},
   "outputs": [
    {
     "name": "stdout",
     "output_type": "stream",
     "text": [
      "7\n"
     ]
    }
   ],
   "source": [
    "#lambda 표현식(예약어) 사용하여 표현\n",
    "add = lambda a,b: a+b\n",
    "print(add(3,4))"
   ]
  },
  {
   "cell_type": "markdown",
   "id": "c0c8501e-4899-44a7-b501-b3406cac94d0",
   "metadata": {},
   "source": [
    "## 2. 함수의 활용"
   ]
  },
  {
   "cell_type": "markdown",
   "id": "54996a8c-38cc-456d-bc2f-bbb4cea3109f",
   "metadata": {},
   "source": [
    "#### 1) 재귀함수\n",
    ": 내가 만든 함수를 다시 호출하는 것"
   ]
  },
  {
   "cell_type": "code",
   "execution_count": 66,
   "id": "cf5ad160-1063-4975-a9d5-7627485f6025",
   "metadata": {},
   "outputs": [
    {
     "name": "stdout",
     "output_type": "stream",
     "text": [
      "5! = 120\n"
     ]
    }
   ],
   "source": [
    "# 반복문으로 팩토리얼 구하기\n",
    "def factorial(n):\n",
    "    output = 1\n",
    "    for i in range(1, n+1):\n",
    "        output *= i\n",
    "    return output\n",
    "\n",
    "print('5! =', factorial(5))"
   ]
  },
  {
   "cell_type": "code",
   "execution_count": 67,
   "id": "863f09de-adb6-4fa2-9f49-9072178390e0",
   "metadata": {},
   "outputs": [
    {
     "name": "stdout",
     "output_type": "stream",
     "text": [
      "5! = 120\n"
     ]
    }
   ],
   "source": [
    "# 제거 함수로 팩토리얼 구하기\n",
    "def factorial (n):\n",
    "    if n == 0:\n",
    "       return 1\n",
    "    else:\n",
    "       return n * factorial(n-1)\n",
    "        \n",
    "print('5! =', factorial(5))"
   ]
  },
  {
   "cell_type": "markdown",
   "id": "99aa9b46-c199-43c8-aead-0eb0e1a3be66",
   "metadata": {},
   "source": [
    "### 2) 리스트 평탄화하는 재귀 함수 만들기"
   ]
  },
  {
   "cell_type": "code",
   "execution_count": 63,
   "id": "0111c2f7-eb23-49f1-817d-40975d478824",
   "metadata": {},
   "outputs": [
    {
     "name": "stdout",
     "output_type": "stream",
     "text": [
      "4\n",
      "원본 :  [[1, 2, 3], [4, [5, 6]], 7, [8, 9]]\n",
      "평탄회: [1, 2, 3, 4, [5, 6], 7, 8, 9]\n"
     ]
    }
   ],
   "source": [
    "def flatten(data):\n",
    "    output = []\n",
    "    for item in data:\n",
    "        if type(item) == list:\n",
    "            output += item\n",
    "        else:\n",
    "            output.append(item)\n",
    "\n",
    "    return output\n",
    "\n",
    "example = [[1,2,3], [4, [5,6]], 7, [8,9]]\n",
    "print(len(example))\n",
    "print('원본 : ', example)\n",
    "print('평탄회:', flatten(example))"
   ]
  },
  {
   "cell_type": "code",
   "execution_count": 69,
   "id": "c892ec94-e741-4d80-868c-8aeee8b9e1a9",
   "metadata": {},
   "outputs": [
    {
     "name": "stdout",
     "output_type": "stream",
     "text": [
      "4\n",
      "원본 :  [[1, 2, 3], [4, [5, 6]], 7, [8, 9]]\n",
      "평탄회: [1, 2, 3, 4, 5, 6, 7, 8, 9]\n"
     ]
    }
   ],
   "source": [
    "# 재귀 함수로 리스트 평탄화\n",
    "def flatten(data):\n",
    "    output = []\n",
    "    for item in data:\n",
    "        if type(item) == list:\n",
    "            output += flatten(item)\n",
    "        else:\n",
    "            output.append(item)\n",
    "\n",
    "    return output\n",
    "\n",
    "example = [[1,2,3], [4, [5,6]], 7, [8,9]]\n",
    "print(len(example))\n",
    "print('원본 : ', example)\n",
    "print('평탄회:', flatten(example))"
   ]
  },
  {
   "cell_type": "code",
   "execution_count": null,
   "id": "764bfc6f-362f-4d2b-bc5c-39c8eaf80bdb",
   "metadata": {},
   "outputs": [],
   "source": []
  }
 ],
 "metadata": {
  "kernelspec": {
   "display_name": "Python 3 (ipykernel)",
   "language": "python",
   "name": "python3"
  },
  "language_info": {
   "codemirror_mode": {
    "name": "ipython",
    "version": 3
   },
   "file_extension": ".py",
   "mimetype": "text/x-python",
   "name": "python",
   "nbconvert_exporter": "python",
   "pygments_lexer": "ipython3",
   "version": "3.13.5"
  }
 },
 "nbformat": 4,
 "nbformat_minor": 5
}
